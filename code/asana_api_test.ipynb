{
 "cells": [
  {
   "cell_type": "code",
   "execution_count": 1,
   "metadata": {},
   "outputs": [],
   "source": [
    "import asana\n",
    "from datetime import date, datetime, timezone\n",
    "import argparse\n",
    "import sys, os\n",
    "import json\n",
    "import xml.dom.minidom as xr\n",
    "import pandas as pd\n",
    "import numpy as np\n",
    "from dateutil.relativedelta import relativedelta\n",
    "\n",
    "\n"
   ]
  },
  {
   "cell_type": "code",
   "execution_count": 2,
   "metadata": {},
   "outputs": [],
   "source": [
    "# dates in NAV changed format at some point: try different format to read dates from NAV xml\n",
    "def get_date(date_str):\n",
    "    date_formats = [\"%d/%m/%y\", \"%y-%m-%d\", \"%Y-%m-%d\",\"%Y/%m/%d\",\"%m/%d/%y\"]\n",
    "    for date_format in date_formats:\n",
    "        try:\n",
    "            return datetime.strptime( date_str, date_format )\n",
    "        except:\n",
    "            pass"
   ]
  },
  {
   "cell_type": "code",
   "execution_count": 3,
   "metadata": {},
   "outputs": [],
   "source": [
    "# Parse xml\n",
    "doc = xr.parse(\"../data/2012_6692.xml\")\n",
    "# Get some attributes: Job Order number and delivery date (to the client), expected processing init and end\n",
    "JOnumber = doc.getElementsByTagName(\"JobOrderCode\")[0].firstChild.nodeValue\n",
    "delivery_code = doc.getElementsByTagName(\"Delivery\")[0].getElementsByTagName(\"Code\")[0].firstChild.nodeValue\n",
    "delivery_date = doc.getElementsByTagName(\"Delivery\")[0].getElementsByTagName(\"Date\")[0].firstChild.nodeValue\n",
    "# All dates are strings, change to datetime format\n",
    "delivery_date = get_date(delivery_date[:10])\n",
    "expected_init = get_date(doc.getElementsByTagName(\"DeliveryExpectedInit\")[0].firstChild.nodeValue)\n",
    "expected_end = get_date(doc.getElementsByTagName(\"DeliveryExpectedProcessingEnd\")[0].firstChild.nodeValue)"
   ]
  },
  {
   "cell_type": "code",
   "execution_count": 4,
   "metadata": {},
   "outputs": [],
   "source": [
    "# Personal access token\n",
    "personal_access_token = '1/1202212364519907:bfcacb7b5b0fa7ed5773e96e270cf977'\n",
    "\n",
    "# Construct an Asana client\n",
    "client = asana.Client.access_token(personal_access_token)\n",
    "\n",
    "# Get your user info\n",
    "me = client.users.me()\n"
   ]
  },
  {
   "cell_type": "code",
   "execution_count": 5,
   "metadata": {},
   "outputs": [],
   "source": [
    "workspace_gid = \"186860237544930\" # TRE Altamira\n",
    "team_gid = \"735937443511725\" # Geospatial Solutions Italy\n",
    "proc_gid = \"1167558511333185\" # Processing\n",
    "template_gid = \"1203433335473715\" # benji_multiteam\n",
    "projects_overview_gid = \"1202122023599837\" # GS master project"
   ]
  },
  {
   "cell_type": "code",
   "execution_count": 6,
   "metadata": {},
   "outputs": [],
   "source": [
    "users_gs = pd.DataFrame(client.users.get_users_for_team(team_gid))\n",
    "users_proc = pd.DataFrame(client.users.get_users_for_team(proc_gid))\n",
    "\n",
    "\n"
   ]
  },
  {
   "cell_type": "code",
   "execution_count": 9,
   "metadata": {},
   "outputs": [
    {
     "name": "stderr",
     "output_type": "stream",
     "text": [
      "c:\\Users\\saadia\\Documents\\0_WORK\\ASANA_DEVELOPMENT\\venv\\lib\\site-packages\\asana\\client.py:157: UserWarning: This request is affected by the \"new_project_templates\" deprecation. Please visit this url for more info: https://forum.asana.com/t/a-new-api-for-project-templates/156432\n",
      "Adding \"new_project_templates\" to your \"Asana-Enable\" or \"Asana-Disable\" header will opt in/out to this deprecation and suppress this warning.\n",
      "  warnings.warn(message)\n"
     ]
    }
   ],
   "source": [
    "# Duplicate the template project\n",
    "project_title = \"BENJI TEST [JO%s-%s]\" % (JOnumber, delivery_code)\n",
    "dup_project = client.projects.duplicate_project(template_gid, {\n",
    "        \"include\": [\n",
    "            \"notes\",\n",
    "            \"task_notes\",\n",
    "            \"task_subtasks\",\n",
    "            \"task_attachments\",\n",
    "            \"task_dates\",\n",
    "            \"task_dependencies\",\n",
    "            \"task_followers\",\n",
    "            \"task_tags\",\n",
    "        ],\n",
    "        \"name\": project_title,\n",
    "        \"schedule_dates\": {\n",
    "            \"start_on\": expected_init.strftime(\"%Y-%m-%d\"),\n",
    "            \"should_skip_weekends\": False\n",
    "        },\n",
    "    })\n",
    "\n",
    "project_gid = dup_project[\"new_project\"][\"gid\"]"
   ]
  },
  {
   "cell_type": "code",
   "execution_count": 10,
   "metadata": {},
   "outputs": [
    {
     "name": "stderr",
     "output_type": "stream",
     "text": [
      "c:\\Users\\saadia\\Documents\\0_WORK\\ASANA_DEVELOPMENT\\venv\\lib\\site-packages\\asana\\client.py:157: UserWarning: This request is affected by the \"new_user_task_lists\" deprecation. Please visit this url for more info: https://forum.asana.com/t/update-on-our-planned-api-changes-to-user-task-lists-a-k-a-my-tasks/103828\n",
      "Adding \"new_user_task_lists\" to your \"Asana-Enable\" or \"Asana-Disable\" header will opt in/out to this deprecation and suppress this warning.\n",
      "  warnings.warn(message)\n",
      "c:\\Users\\saadia\\Documents\\0_WORK\\ASANA_DEVELOPMENT\\venv\\lib\\site-packages\\asana\\client.py:157: UserWarning: This request is affected by the \"new_project_templates\" deprecation. Please visit this url for more info: https://forum.asana.com/t/a-new-api-for-project-templates/156432\n",
      "Adding \"new_project_templates\" to your \"Asana-Enable\" or \"Asana-Disable\" header will opt in/out to this deprecation and suppress this warning.\n",
      "  warnings.warn(message)\n"
     ]
    }
   ],
   "source": [
    "# Assign tasks to proper team members\n",
    "assignee_gs = users_gs[users_gs[\"name\"] == \"Benjamin Saadia\"][\"gid\"].values[0] # Placeholder assignee for GS\n",
    "assignee_proc = assignee_gs # Placeholder assignee for proc\n",
    "\n",
    "# The tasks that need to be assigned to Processing. In the future, consider using the Team field\n",
    "proc_task_names = [\"Data Processing\", \"Processing completed\", \"Data Finalization\", \"Deliverables Generation\", \"Update 1- Data Processing\", \"Update 1- Processing completed\", \"Update 1-  Data Finalization\", \"Update 1- Deliverables Generation\"]\n",
    "\n",
    "project_tasks = pd.DataFrame(client.tasks.get_tasks_for_project(project_gid, {'opt_fields': ['gid', 'name']}))\n",
    "# project_tasks\n",
    "for task_gid, task_name in zip(project_tasks[\"gid\"], project_tasks[\"name\"]):\n",
    "    if task_name in proc_task_names:\n",
    "        client.tasks.update_task(task_gid, {'assignee': assignee_proc})\n",
    "    else:\n",
    "        client.tasks.update_task(task_gid, {'assignee': assignee_gs, })\n",
    "        client.tasks.add_project_for_task(task_gid, {'project': projects_overview_gid})\n"
   ]
  },
  {
   "cell_type": "code",
   "execution_count": 11,
   "metadata": {},
   "outputs": [
    {
     "ename": "NotFoundError",
     "evalue": "Not Found: project: Not a recognized ID: 1203448067777256",
     "output_type": "error",
     "traceback": [
      "\u001b[1;31m---------------------------------------------------------------------------\u001b[0m",
      "\u001b[1;31mNotFoundError\u001b[0m                             Traceback (most recent call last)",
      "Cell \u001b[1;32mIn [11], line 3\u001b[0m\n\u001b[0;32m      1\u001b[0m \u001b[39m# Create number of sections based on n_updates\u001b[39;00m\n\u001b[0;32m      2\u001b[0m n_updates \u001b[39m=\u001b[39m \u001b[39m2\u001b[39m\n\u001b[1;32m----> 3\u001b[0m section_data \u001b[39m=\u001b[39m \u001b[39mlist\u001b[39;49m(client\u001b[39m.\u001b[39;49msections\u001b[39m.\u001b[39;49mget_sections_for_project(project_gid\u001b[39m=\u001b[39;49mproject_gid)) \u001b[39m# Get section data for the project\u001b[39;00m\n\u001b[0;32m      4\u001b[0m df_section \u001b[39m=\u001b[39m pd\u001b[39m.\u001b[39mDataFrame(section_data) \u001b[39m# Convert to df\u001b[39;00m\n\u001b[0;32m      5\u001b[0m update_gid \u001b[39m=\u001b[39m df_section[df_section[\u001b[39m\"\u001b[39m\u001b[39mname\u001b[39m\u001b[39m\"\u001b[39m] \u001b[39m==\u001b[39m \u001b[39m\"\u001b[39m\u001b[39mUpdate 1\u001b[39m\u001b[39m\"\u001b[39m][\u001b[39m\"\u001b[39m\u001b[39mgid\u001b[39m\u001b[39m\"\u001b[39m]\u001b[39m.\u001b[39mvalues[\u001b[39m0\u001b[39m] \u001b[39m# GID of Update 1 which will be used as a template Section for the rest of the updates\u001b[39;00m\n",
      "File \u001b[1;32mc:\\Users\\saadia\\Documents\\0_WORK\\ASANA_DEVELOPMENT\\venv\\lib\\site-packages\\asana\\page_iterator.py:58\u001b[0m, in \u001b[0;36mPageIterator.items\u001b[1;34m(self)\u001b[0m\n\u001b[0;32m     56\u001b[0m \u001b[39mdef\u001b[39;00m \u001b[39mitems\u001b[39m(\u001b[39mself\u001b[39m):\n\u001b[0;32m     57\u001b[0m     \u001b[39m\"\"\"Returns an iterator for each item in each page\"\"\"\u001b[39;00m\n\u001b[1;32m---> 58\u001b[0m     \u001b[39mfor\u001b[39;00m page \u001b[39min\u001b[39;00m \u001b[39mself\u001b[39m:\n\u001b[0;32m     59\u001b[0m         \u001b[39mfor\u001b[39;00m item \u001b[39min\u001b[39;00m page:\n\u001b[0;32m     60\u001b[0m             \u001b[39myield\u001b[39;00m item\n",
      "File \u001b[1;32mc:\\Users\\saadia\\Documents\\0_WORK\\ASANA_DEVELOPMENT\\venv\\lib\\site-packages\\asana\\page_iterator.py:40\u001b[0m, in \u001b[0;36mPageIterator.__next__\u001b[1;34m(self)\u001b[0m\n\u001b[0;32m     38\u001b[0m \u001b[39m# First call to __next__\u001b[39;00m\n\u001b[0;32m     39\u001b[0m \u001b[39melif\u001b[39;00m \u001b[39mself\u001b[39m\u001b[39m.\u001b[39mcontinuation \u001b[39m==\u001b[39m \u001b[39mFalse\u001b[39;00m:\n\u001b[1;32m---> 40\u001b[0m     result \u001b[39m=\u001b[39m \u001b[39mself\u001b[39;49m\u001b[39m.\u001b[39;49mget_initial()\n\u001b[0;32m     41\u001b[0m \u001b[39m# Subsequent calls to __next__\u001b[39;00m\n\u001b[0;32m     42\u001b[0m \u001b[39melse\u001b[39;00m:\n\u001b[0;32m     43\u001b[0m     result \u001b[39m=\u001b[39m \u001b[39mself\u001b[39m\u001b[39m.\u001b[39mget_next()\n",
      "File \u001b[1;32mc:\\Users\\saadia\\Documents\\0_WORK\\ASANA_DEVELOPMENT\\venv\\lib\\site-packages\\asana\\page_iterator.py:69\u001b[0m, in \u001b[0;36mCollectionPageIterator.get_initial\u001b[1;34m(self)\u001b[0m\n\u001b[0;32m     68\u001b[0m \u001b[39mdef\u001b[39;00m \u001b[39mget_initial\u001b[39m(\u001b[39mself\u001b[39m):\n\u001b[1;32m---> 69\u001b[0m     \u001b[39mreturn\u001b[39;00m \u001b[39mself\u001b[39m\u001b[39m.\u001b[39mclient\u001b[39m.\u001b[39mget(\u001b[39mself\u001b[39m\u001b[39m.\u001b[39mpath, \u001b[39mself\u001b[39m\u001b[39m.\u001b[39mquery, \u001b[39m*\u001b[39m\u001b[39m*\u001b[39m\u001b[39mself\u001b[39m\u001b[39m.\u001b[39moptions)\n",
      "File \u001b[1;32mc:\\Users\\saadia\\Documents\\0_WORK\\ASANA_DEVELOPMENT\\venv\\lib\\site-packages\\asana\\client.py:175\u001b[0m, in \u001b[0;36mClient.get\u001b[1;34m(self, path, query, **options)\u001b[0m\n\u001b[0;32m    173\u001b[0m \u001b[39m# options in the query takes precendence\u001b[39;00m\n\u001b[0;32m    174\u001b[0m query \u001b[39m=\u001b[39m _merge(query_options, api_options, parameter_options, query)\n\u001b[1;32m--> 175\u001b[0m \u001b[39mreturn\u001b[39;00m \u001b[39mself\u001b[39m\u001b[39m.\u001b[39mrequest(\u001b[39m'\u001b[39m\u001b[39mget\u001b[39m\u001b[39m'\u001b[39m, path, params\u001b[39m=\u001b[39mquery, \u001b[39m*\u001b[39m\u001b[39m*\u001b[39moptions)\n",
      "File \u001b[1;32mc:\\Users\\saadia\\Documents\\0_WORK\\ASANA_DEVELOPMENT\\venv\\lib\\site-packages\\asana\\client.py:93\u001b[0m, in \u001b[0;36mClient.request\u001b[1;34m(self, method, path, **options)\u001b[0m\n\u001b[0;32m     91\u001b[0m \u001b[39mself\u001b[39m\u001b[39m.\u001b[39m_log_asana_change_header(request_options[\u001b[39m'\u001b[39m\u001b[39mheaders\u001b[39m\u001b[39m'\u001b[39m], response\u001b[39m.\u001b[39mheaders)\n\u001b[0;32m     92\u001b[0m \u001b[39mif\u001b[39;00m response\u001b[39m.\u001b[39mstatus_code \u001b[39min\u001b[39;00m STATUS_MAP:\n\u001b[1;32m---> 93\u001b[0m     \u001b[39mraise\u001b[39;00m STATUS_MAP[response\u001b[39m.\u001b[39mstatus_code](response)\n\u001b[0;32m     94\u001b[0m \u001b[39melif\u001b[39;00m \u001b[39m500\u001b[39m \u001b[39m<\u001b[39m\u001b[39m=\u001b[39m response\u001b[39m.\u001b[39mstatus_code \u001b[39m<\u001b[39m \u001b[39m600\u001b[39m:\n\u001b[0;32m     95\u001b[0m     \u001b[39m# Any unhandled 500 is a server error.\u001b[39;00m\n\u001b[0;32m     96\u001b[0m     \u001b[39mraise\u001b[39;00m error\u001b[39m.\u001b[39mServerError(response)\n",
      "\u001b[1;31mNotFoundError\u001b[0m: Not Found: project: Not a recognized ID: 1203448067777256"
     ]
    }
   ],
   "source": [
    "# Create number of sections based on n_updates\n",
    "n_updates = 2\n",
    "section_data = list(client.sections.get_sections_for_project(project_gid=project_gid)) # Get section data for the project\n",
    "df_section = pd.DataFrame(section_data) # Convert to df\n",
    "update_gid = df_section[df_section[\"name\"] == \"Update 1\"][\"gid\"].values[0] # GID of Update 1 which will be used as a template Section for the rest of the updates\n",
    "update_body = client.sections.get_section(update_gid)\n",
    "update_tasks = list(client.tasks.get_tasks_for_section(section_gid=update_gid))\n",
    "df_update_tasks = pd.DataFrame(update_tasks)\n",
    "df_update_tasks[\"name\"] = df_update_tasks[\"name\"].str.replace(\"Update 1- \", \"\")\n",
    "\n"
   ]
  },
  {
   "cell_type": "code",
   "execution_count": 12,
   "metadata": {},
   "outputs": [
    {
     "name": "stderr",
     "output_type": "stream",
     "text": [
      "c:\\Users\\saadia\\Documents\\0_WORK\\ASANA_DEVELOPMENT\\venv\\lib\\site-packages\\asana\\client.py:157: UserWarning: This request is affected by the \"new_project_templates\" deprecation. Please visit this url for more info: https://forum.asana.com/t/a-new-api-for-project-templates/156432\n",
      "Adding \"new_project_templates\" to your \"Asana-Enable\" or \"Asana-Disable\" header will opt in/out to this deprecation and suppress this warning.\n",
      "  warnings.warn(message)\n",
      "c:\\Users\\saadia\\Documents\\0_WORK\\ASANA_DEVELOPMENT\\venv\\lib\\site-packages\\asana\\client.py:157: UserWarning: This request is affected by the \"new_user_task_lists\" deprecation. Please visit this url for more info: https://forum.asana.com/t/update-on-our-planned-api-changes-to-user-task-lists-a-k-a-my-tasks/103828\n",
      "Adding \"new_user_task_lists\" to your \"Asana-Enable\" or \"Asana-Disable\" header will opt in/out to this deprecation and suppress this warning.\n",
      "  warnings.warn(message)\n"
     ]
    }
   ],
   "source": [
    "# Iterate through each section in reverse order\n",
    "for n in reversed(range(2, n_updates+2)):\n",
    "    new_section = client.sections.create_section_for_project(project_gid, {'name': 'Update %s' % (str(n)), 'insert_after': update_gid})\n",
    "    for task_gid, task_name in zip(df_update_tasks[\"gid\"],df_update_tasks[\"name\"]):\n",
    "        dup_task = client.tasks.duplicate_task(task_gid, {'name': 'Update %s- %s' % (str(n), task_name), \"include\": [\"dates\", \"assignee\", \"projects\"]})\n",
    "        try:\n",
    "           start_on = datetime.strptime(client.tasks.get_task(dup_task[\"new_task\"][\"gid\"])[\"start_on\"], \"%Y-%m-%d\") + relativedelta(months=n-1)\n",
    "           start_on = start_on.strftime(\"%Y-%m-%d\")\n",
    "        except TypeError:\n",
    "            start_on = \"\"\n",
    "        try:\n",
    "            due_on = datetime.strptime(client.tasks.get_task(dup_task[\"new_task\"][\"gid\"])[\"due_on\"], \"%Y-%m-%d\") + relativedelta(months=n-1)\n",
    "            due_on = due_on.strftime(\"%Y-%m-%d\")\n",
    "        except TypeError:\n",
    "            due_on = \"\"\n",
    "        client.tasks.update_task(dup_task[\"new_task\"][\"gid\"], {'start_on': start_on, 'due_on': due_on})\n",
    "        client.tasks.add_project_for_task(dup_task[\"new_task\"][\"gid\"], {'project': project_gid, 'section': new_section[\"gid\"]}, opt_pretty=True)"
   ]
  }
 ],
 "metadata": {
  "kernelspec": {
   "display_name": "Python 3.10.8 ('venv': venv)",
   "language": "python",
   "name": "python3"
  },
  "language_info": {
   "codemirror_mode": {
    "name": "ipython",
    "version": 3
   },
   "file_extension": ".py",
   "mimetype": "text/x-python",
   "name": "python",
   "nbconvert_exporter": "python",
   "pygments_lexer": "ipython3",
   "version": "3.10.8"
  },
  "orig_nbformat": 4,
  "vscode": {
   "interpreter": {
    "hash": "4a3f34ee045fd98aff018f5a88b08c7a8b654e192857c6929861f3c14c6c02f8"
   }
  }
 },
 "nbformat": 4,
 "nbformat_minor": 2
}
